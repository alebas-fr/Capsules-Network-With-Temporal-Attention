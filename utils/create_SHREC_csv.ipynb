{
 "cells": [
  {
   "cell_type": "code",
   "execution_count": null,
   "id": "d187fcd4-ba06-4ba8-aa04-754fe4554ac3",
   "metadata": {},
   "outputs": [],
   "source": [
    "import pandas as pd\n",
    "import numpy as np\n",
    "import os "
   ]
  },
  {
   "cell_type": "code",
   "execution_count": null,
   "id": "019609a8-e3ee-43a2-bb35-f7b75d77fe4e",
   "metadata": {},
   "outputs": [],
   "source": [
    "dataset_path = \"path to dataset\"\n",
    "train_files = dataset_path+\"/train_gestures.txt\"\n",
    "test_files = dataset_path+\"/test_gestures.txt\""
   ]
  },
  {
   "cell_type": "code",
   "execution_count": null,
   "id": "29a33017-1cf3-4ebf-8482-3cabde2babfe",
   "metadata": {},
   "outputs": [],
   "source": [
    "with open(train_files,\"r\") as files:\n",
    "    datas = files.readlines()"
   ]
  },
  {
   "cell_type": "code",
   "execution_count": null,
   "id": "c530303c-b64c-43b1-94e0-b63092687ccd",
   "metadata": {},
   "outputs": [],
   "source": [
    "id_g = []\n",
    "id_f = []\n",
    "id_s = []\n",
    "id_e = []\n",
    "labels_14 = []\n",
    "labels_28 = []\n",
    "n_frames = []\n",
    "paths = []\n",
    "i = 1\n",
    "for data in datas:\n",
    "    params = data.split(\"\\n\")[0]\n",
    "    params = params.split(\" \")\n",
    "    id_g.append(params[0])\n",
    "    id_f.append(params[1])\n",
    "    id_s.append(params[2])\n",
    "    id_e.append(params[3])\n",
    "    labels_14.append(params[4])\n",
    "    labels_28.append(params[5])\n",
    "    n_frames.append(params[6])\n",
    "    paths.append(\"gesture_{}/finger_{}/subject_{}/essai_{}\".format(params[0],params[1],params[2],params[3]))\n",
    "    if i%200==0:\n",
    "        print(\"{} data done\".format(i))\n",
    "    i+=1"
   ]
  },
  {
   "cell_type": "code",
   "execution_count": null,
   "id": "3c300235-de62-41e6-b7fa-07b95979fcf4",
   "metadata": {},
   "outputs": [],
   "source": [
    "train_dict = {\"path\":paths,\"labels_14\":labels_14,\"labels_28\":labels_28,\"n_frames\":n_frames}"
   ]
  },
  {
   "cell_type": "code",
   "execution_count": null,
   "id": "16190f0c-efcb-4210-ba7f-2c07a1e04399",
   "metadata": {},
   "outputs": [],
   "source": [
    "train_df = pd.DataFrame(train_dict)"
   ]
  },
  {
   "cell_type": "code",
   "execution_count": null,
   "id": "b785e0ce-8e1f-4487-aa84-c6d8f210f5fc",
   "metadata": {},
   "outputs": [],
   "source": [
    "train_df.to_csv(dataset_path+\"/train.csv\")"
   ]
  },
  {
   "cell_type": "code",
   "execution_count": null,
   "id": "70f66bec-2953-4050-90ab-91ab216471d0",
   "metadata": {},
   "outputs": [],
   "source": [
    "with open(test_files,\"r\") as files:\n",
    "    datas = files.readlines()"
   ]
  },
  {
   "cell_type": "code",
   "execution_count": null,
   "id": "85cc544c-441e-410e-b1f2-380a96b7a368",
   "metadata": {},
   "outputs": [],
   "source": [
    "print(len(datas))"
   ]
  },
  {
   "cell_type": "code",
   "execution_count": null,
   "id": "6c7426f8-5d75-405c-b480-828d9d7da82a",
   "metadata": {},
   "outputs": [],
   "source": [
    "id_g = []\n",
    "id_f = []\n",
    "id_s = []\n",
    "id_e = []\n",
    "labels_14 = []\n",
    "labels_28 = []\n",
    "n_frames = []\n",
    "paths = []\n",
    "i = 1\n",
    "for data in datas:\n",
    "    params = data.split(\"\\n\")[0]\n",
    "    params = params.split(\" \")\n",
    "    id_g.append(params[0])\n",
    "    id_f.append(params[1])\n",
    "    id_s.append(params[2])\n",
    "    id_e.append(params[3])\n",
    "    labels_14.append(params[4])\n",
    "    labels_28.append(params[5])\n",
    "    n_frames.append(params[6])\n",
    "    paths.append(\"gesture_{}/finger_{}/subject_{}/essai_{}\".format(params[0],params[1],params[2],params[3]))\n",
    "    if i%200==0:\n",
    "        print(\"{} data done\".format(i))\n",
    "    i+=1"
   ]
  },
  {
   "cell_type": "code",
   "execution_count": null,
   "id": "3facc3f2-d398-4c9e-b17f-41d574f0f1ed",
   "metadata": {},
   "outputs": [],
   "source": [
    "test_dict = {\"path\":paths,\"labels_14\":labels_14,\"labels_28\":labels_28,\"n_frames\":n_frames}"
   ]
  },
  {
   "cell_type": "code",
   "execution_count": null,
   "id": "f79b089e-e448-4763-9357-e51c94ce3af8",
   "metadata": {},
   "outputs": [],
   "source": [
    "test_df = pd.DataFrame(test_dict)"
   ]
  },
  {
   "cell_type": "code",
   "execution_count": null,
   "id": "0af9496e-ab45-44a0-b746-95adb0fd945a",
   "metadata": {},
   "outputs": [],
   "source": [
    "test_df.to_csv(dataset_path+\"/test.csv\")"
   ]
  }
 ],
 "metadata": {
  "kernelspec": {
   "display_name": "Python 3 (ipykernel)",
   "language": "python",
   "name": "python3"
  },
  "language_info": {
   "codemirror_mode": {
    "name": "ipython",
    "version": 3
   },
   "file_extension": ".py",
   "mimetype": "text/x-python",
   "name": "python",
   "nbconvert_exporter": "python",
   "pygments_lexer": "ipython3",
   "version": "3.9.13"
  }
 },
 "nbformat": 4,
 "nbformat_minor": 5
}
